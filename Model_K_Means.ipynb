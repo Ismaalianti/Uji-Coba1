{
  "nbformat": 4,
  "nbformat_minor": 0,
  "metadata": {
    "colab": {
      "provenance": [],
      "gpuType": "T4"
    },
    "kernelspec": {
      "name": "python3",
      "display_name": "Python 3"
    },
    "language_info": {
      "name": "python"
    },
    "accelerator": "GPU"
  },
  "cells": [
    {
      "cell_type": "code",
      "execution_count": 15,
      "metadata": {
        "id": "nCeqIU161kGY"
      },
      "outputs": [],
      "source": [
        "import pandas as pd\n",
        "import numpy as np\n",
        "import seaborn as sns\n",
        "import matplotlib.pyplot as plt\n",
        "from math import radians, sin, cos, sqrt, atan2\n",
        "from joblib import dump, load\n",
        "from sklearn.neighbors import NearestNeighbors\n",
        "from sklearn.metrics import mean_squared_error\n",
        "import tensorflow as tf\n",
        "from tensorflow.keras.models import Sequential\n",
        "from tensorflow.keras.layers import Dense\n",
        "from sklearn.cluster import KMeans\n",
        "from sklearn.preprocessing import StandardScaler\n",
        "from sklearn.model_selection import train_test_split\n",
        "from tensorflow.keras.utils import to_categorical"
      ]
    },
    {
      "cell_type": "code",
      "source": [
        "from google.colab import files\n",
        "uploaded = files.upload()"
      ],
      "metadata": {
        "colab": {
          "base_uri": "https://localhost:8080/",
          "height": 216
        },
        "id": "wJ7dbeOh3Nwt",
        "outputId": "d1909773-3bec-4dd2-9092-f73dc70fc914"
      },
      "execution_count": 16,
      "outputs": [
        {
          "output_type": "display_data",
          "data": {
            "text/plain": [
              "<IPython.core.display.HTML object>"
            ],
            "text/html": [
              "\n",
              "     <input type=\"file\" id=\"files-52f34dde-80ae-47b5-8175-aadb6de49d08\" name=\"files[]\" multiple disabled\n",
              "        style=\"border:none\" />\n",
              "     <output id=\"result-52f34dde-80ae-47b5-8175-aadb6de49d08\">\n",
              "      Upload widget is only available when the cell has been executed in the\n",
              "      current browser session. Please rerun this cell to enable.\n",
              "      </output>\n",
              "      <script>// Copyright 2017 Google LLC\n",
              "//\n",
              "// Licensed under the Apache License, Version 2.0 (the \"License\");\n",
              "// you may not use this file except in compliance with the License.\n",
              "// You may obtain a copy of the License at\n",
              "//\n",
              "//      http://www.apache.org/licenses/LICENSE-2.0\n",
              "//\n",
              "// Unless required by applicable law or agreed to in writing, software\n",
              "// distributed under the License is distributed on an \"AS IS\" BASIS,\n",
              "// WITHOUT WARRANTIES OR CONDITIONS OF ANY KIND, either express or implied.\n",
              "// See the License for the specific language governing permissions and\n",
              "// limitations under the License.\n",
              "\n",
              "/**\n",
              " * @fileoverview Helpers for google.colab Python module.\n",
              " */\n",
              "(function(scope) {\n",
              "function span(text, styleAttributes = {}) {\n",
              "  const element = document.createElement('span');\n",
              "  element.textContent = text;\n",
              "  for (const key of Object.keys(styleAttributes)) {\n",
              "    element.style[key] = styleAttributes[key];\n",
              "  }\n",
              "  return element;\n",
              "}\n",
              "\n",
              "// Max number of bytes which will be uploaded at a time.\n",
              "const MAX_PAYLOAD_SIZE = 100 * 1024;\n",
              "\n",
              "function _uploadFiles(inputId, outputId) {\n",
              "  const steps = uploadFilesStep(inputId, outputId);\n",
              "  const outputElement = document.getElementById(outputId);\n",
              "  // Cache steps on the outputElement to make it available for the next call\n",
              "  // to uploadFilesContinue from Python.\n",
              "  outputElement.steps = steps;\n",
              "\n",
              "  return _uploadFilesContinue(outputId);\n",
              "}\n",
              "\n",
              "// This is roughly an async generator (not supported in the browser yet),\n",
              "// where there are multiple asynchronous steps and the Python side is going\n",
              "// to poll for completion of each step.\n",
              "// This uses a Promise to block the python side on completion of each step,\n",
              "// then passes the result of the previous step as the input to the next step.\n",
              "function _uploadFilesContinue(outputId) {\n",
              "  const outputElement = document.getElementById(outputId);\n",
              "  const steps = outputElement.steps;\n",
              "\n",
              "  const next = steps.next(outputElement.lastPromiseValue);\n",
              "  return Promise.resolve(next.value.promise).then((value) => {\n",
              "    // Cache the last promise value to make it available to the next\n",
              "    // step of the generator.\n",
              "    outputElement.lastPromiseValue = value;\n",
              "    return next.value.response;\n",
              "  });\n",
              "}\n",
              "\n",
              "/**\n",
              " * Generator function which is called between each async step of the upload\n",
              " * process.\n",
              " * @param {string} inputId Element ID of the input file picker element.\n",
              " * @param {string} outputId Element ID of the output display.\n",
              " * @return {!Iterable<!Object>} Iterable of next steps.\n",
              " */\n",
              "function* uploadFilesStep(inputId, outputId) {\n",
              "  const inputElement = document.getElementById(inputId);\n",
              "  inputElement.disabled = false;\n",
              "\n",
              "  const outputElement = document.getElementById(outputId);\n",
              "  outputElement.innerHTML = '';\n",
              "\n",
              "  const pickedPromise = new Promise((resolve) => {\n",
              "    inputElement.addEventListener('change', (e) => {\n",
              "      resolve(e.target.files);\n",
              "    });\n",
              "  });\n",
              "\n",
              "  const cancel = document.createElement('button');\n",
              "  inputElement.parentElement.appendChild(cancel);\n",
              "  cancel.textContent = 'Cancel upload';\n",
              "  const cancelPromise = new Promise((resolve) => {\n",
              "    cancel.onclick = () => {\n",
              "      resolve(null);\n",
              "    };\n",
              "  });\n",
              "\n",
              "  // Wait for the user to pick the files.\n",
              "  const files = yield {\n",
              "    promise: Promise.race([pickedPromise, cancelPromise]),\n",
              "    response: {\n",
              "      action: 'starting',\n",
              "    }\n",
              "  };\n",
              "\n",
              "  cancel.remove();\n",
              "\n",
              "  // Disable the input element since further picks are not allowed.\n",
              "  inputElement.disabled = true;\n",
              "\n",
              "  if (!files) {\n",
              "    return {\n",
              "      response: {\n",
              "        action: 'complete',\n",
              "      }\n",
              "    };\n",
              "  }\n",
              "\n",
              "  for (const file of files) {\n",
              "    const li = document.createElement('li');\n",
              "    li.append(span(file.name, {fontWeight: 'bold'}));\n",
              "    li.append(span(\n",
              "        `(${file.type || 'n/a'}) - ${file.size} bytes, ` +\n",
              "        `last modified: ${\n",
              "            file.lastModifiedDate ? file.lastModifiedDate.toLocaleDateString() :\n",
              "                                    'n/a'} - `));\n",
              "    const percent = span('0% done');\n",
              "    li.appendChild(percent);\n",
              "\n",
              "    outputElement.appendChild(li);\n",
              "\n",
              "    const fileDataPromise = new Promise((resolve) => {\n",
              "      const reader = new FileReader();\n",
              "      reader.onload = (e) => {\n",
              "        resolve(e.target.result);\n",
              "      };\n",
              "      reader.readAsArrayBuffer(file);\n",
              "    });\n",
              "    // Wait for the data to be ready.\n",
              "    let fileData = yield {\n",
              "      promise: fileDataPromise,\n",
              "      response: {\n",
              "        action: 'continue',\n",
              "      }\n",
              "    };\n",
              "\n",
              "    // Use a chunked sending to avoid message size limits. See b/62115660.\n",
              "    let position = 0;\n",
              "    do {\n",
              "      const length = Math.min(fileData.byteLength - position, MAX_PAYLOAD_SIZE);\n",
              "      const chunk = new Uint8Array(fileData, position, length);\n",
              "      position += length;\n",
              "\n",
              "      const base64 = btoa(String.fromCharCode.apply(null, chunk));\n",
              "      yield {\n",
              "        response: {\n",
              "          action: 'append',\n",
              "          file: file.name,\n",
              "          data: base64,\n",
              "        },\n",
              "      };\n",
              "\n",
              "      let percentDone = fileData.byteLength === 0 ?\n",
              "          100 :\n",
              "          Math.round((position / fileData.byteLength) * 100);\n",
              "      percent.textContent = `${percentDone}% done`;\n",
              "\n",
              "    } while (position < fileData.byteLength);\n",
              "  }\n",
              "\n",
              "  // All done.\n",
              "  yield {\n",
              "    response: {\n",
              "      action: 'complete',\n",
              "    }\n",
              "  };\n",
              "}\n",
              "\n",
              "scope.google = scope.google || {};\n",
              "scope.google.colab = scope.google.colab || {};\n",
              "scope.google.colab._files = {\n",
              "  _uploadFiles,\n",
              "  _uploadFilesContinue,\n",
              "};\n",
              "})(self);\n",
              "</script> "
            ]
          },
          "metadata": {}
        },
        {
          "output_type": "stream",
          "name": "stdout",
          "text": [
            "Saving kabupaten.csv to kabupaten (1).csv\n",
            "Saving makanan_khas.csv to makanan_khas (1).csv\n",
            "Saving provinsi.csv to provinsi (1).csv\n",
            "Saving restaurant.csv to restaurant (1).csv\n",
            "Saving reting.csv to reting (1).csv\n"
          ]
        }
      ]
    },
    {
      "cell_type": "code",
      "source": [
        "restaurant = pd.read_csv('restaurant.csv')\n",
        "provinsi = pd.read_csv('provinsi.csv')\n",
        "makanan_khas = pd.read_csv('makanan_khas.csv')\n",
        "rating = pd.read_csv('reting.csv')"
      ],
      "metadata": {
        "id": "Wf_YYNUo3VKO"
      },
      "execution_count": 17,
      "outputs": []
    },
    {
      "cell_type": "code",
      "source": [
        "restaurant_provinsi = pd.merge(restaurant, provinsi, on='id_provinsi')\n",
        "restaurant_provinsi_makanan_khas = pd.merge(restaurant_provinsi, makanan_khas, on='id_makanan')\n",
        "data_gabungan = pd.merge(restaurant_provinsi_makanan_khas, rating, on='id_reting')\n",
        "data_gabungan = data_gabungan[['id_restaurant','id_reting', 'nama_tempat', 'alamat', 'id_provinsi', 'nama_provinsi', 'id_makanan', 'harga', 'deskripsi', 'long', 'lat']]"
      ],
      "metadata": {
        "id": "Z10sl85t3aC3"
      },
      "execution_count": 18,
      "outputs": []
    },
    {
      "cell_type": "code",
      "source": [
        "class_column = 'id_provinsi'\n",
        "plt.figure(figsize=(10, 6))\n",
        "sns.countplot(data=data_gabungan, x=class_column, order=data_gabungan[class_column].value_counts().index)\n",
        "plt.title('Distribusi Jumlah Sampel per Kelas')\n",
        "plt.xlabel('Kelas')\n",
        "plt.ylabel('Jumlah Sampel')\n",
        "plt.xticks(rotation=90)\n",
        "plt.show()"
      ],
      "metadata": {
        "colab": {
          "base_uri": "https://localhost:8080/",
          "height": 568
        },
        "id": "xAyYDW2Y3iQA",
        "outputId": "22658515-a31c-4856-a16a-5cc0561cb02f"
      },
      "execution_count": 19,
      "outputs": [
        {
          "output_type": "display_data",
          "data": {
            "text/plain": [
              "<Figure size 1000x600 with 1 Axes>"
            ],
            "image/png": "[encoded data removed]"
          },
          "metadata": {}
        }
      ]
    },
    {
      "cell_type": "code",
      "source": [
        "samples_per_class = data_gabungan[class_column].value_counts()\n",
        "print(f\"Jumlah sampel per kelas:\\n{samples_per_class}\")"
      ],
      "metadata": {
        "colab": {
          "base_uri": "https://localhost:8080/"
        },
        "id": "A0hj3wnN3kwD",
        "outputId": "298e18a6-b625-4930-f95c-49c2d506c21b"
      },
      "execution_count": 20,
      "outputs": [
        {
          "output_type": "stream",
          "name": "stdout",
          "text": [
            "Jumlah sampel per kelas:\n",
            "id_provinsi\n",
            "36    39\n",
            "35    36\n",
            "31    35\n",
            "33    35\n",
            "32    35\n",
            "34    35\n",
            "Name: count, dtype: int64\n"
          ]
        }
      ]
    },
    {
      "cell_type": "code",
      "source": [
        "samples_per_class = data_gabungan[class_column].value_counts()\n",
        "print(f\"Statistik Jumlah Sampel per Kelas:\\n{samples_per_class.describe()}\")\n",
        "print(f\"Jumlah sampel minimal dalam satu kelas: {samples_per_class.min()}\")\n",
        "print(f\"Jumlah sampel maksimal dalam satu kelas: {samples_per_class.max()}\")"
      ],
      "metadata": {
        "colab": {
          "base_uri": "https://localhost:8080/"
        },
        "id": "yU1BlT0j3pF5",
        "outputId": "edae0744-6b25-49fb-8886-6a03678e7fec"
      },
      "execution_count": 21,
      "outputs": [
        {
          "output_type": "stream",
          "name": "stdout",
          "text": [
            "Statistik Jumlah Sampel per Kelas:\n",
            "count     6.000000\n",
            "mean     35.833333\n",
            "std       1.602082\n",
            "min      35.000000\n",
            "25%      35.000000\n",
            "50%      35.000000\n",
            "75%      35.750000\n",
            "max      39.000000\n",
            "Name: count, dtype: float64\n",
            "Jumlah sampel minimal dalam satu kelas: 35\n",
            "Jumlah sampel maksimal dalam satu kelas: 39\n"
          ]
        }
      ]
    },
    {
      "cell_type": "code",
      "source": [
        "data_gabungan.isnull().sum().sort_values(ascending = False)"
      ],
      "metadata": {
        "colab": {
          "base_uri": "https://localhost:8080/"
        },
        "id": "zP2i_B0s3rWv",
        "outputId": "cdfc9630-b65c-4822-8c2e-bbd13e3af463"
      },
      "execution_count": 22,
      "outputs": [
        {
          "output_type": "execute_result",
          "data": {
            "text/plain": [
              "id_restaurant    0\n",
              "id_reting        0\n",
              "nama_tempat      0\n",
              "alamat           0\n",
              "id_provinsi      0\n",
              "nama_provinsi    0\n",
              "id_makanan       0\n",
              "harga            0\n",
              "deskripsi        0\n",
              "long             0\n",
              "lat              0\n",
              "dtype: int64"
            ]
          },
          "metadata": {},
          "execution_count": 22
        }
      ]
    },
    {
      "cell_type": "code",
      "source": [
        "data_gabungan.info()"
      ],
      "metadata": {
        "colab": {
          "base_uri": "https://localhost:8080/"
        },
        "id": "1ZN1LPid3uBC",
        "outputId": "986af61d-4ab4-413c-d856-015467686f23"
      },
      "execution_count": 23,
      "outputs": [
        {
          "output_type": "stream",
          "name": "stdout",
          "text": [
            "<class 'pandas.core.frame.DataFrame'>\n",
            "RangeIndex: 215 entries, 0 to 214\n",
            "Data columns (total 11 columns):\n",
            " #   Column         Non-Null Count  Dtype  \n",
            "---  ------         --------------  -----  \n",
            " 0   id_restaurant  215 non-null    int64  \n",
            " 1   id_reting      215 non-null    int64  \n",
            " 2   nama_tempat    215 non-null    object \n",
            " 3   alamat         215 non-null    object \n",
            " 4   id_provinsi    215 non-null    int64  \n",
            " 5   nama_provinsi  215 non-null    object \n",
            " 6   id_makanan     215 non-null    int64  \n",
            " 7   harga          215 non-null    object \n",
            " 8   deskripsi      215 non-null    object \n",
            " 9   long           215 non-null    float64\n",
            " 10  lat            215 non-null    float64\n",
            "dtypes: float64(2), int64(4), object(5)\n",
            "memory usage: 18.6+ KB\n"
          ]
        }
      ]
    },
    {
      "cell_type": "code",
      "source": [
        "data_gabungan.duplicated().sum()"
      ],
      "metadata": {
        "colab": {
          "base_uri": "https://localhost:8080/"
        },
        "id": "jk36Awf13wFS",
        "outputId": "fbbd3cfd-4d78-46e6-dbe2-81e3c3dcacf2"
      },
      "execution_count": 24,
      "outputs": [
        {
          "output_type": "execute_result",
          "data": {
            "text/plain": [
              "0"
            ]
          },
          "metadata": {},
          "execution_count": 24
        }
      ]
    },
    {
      "cell_type": "code",
      "source": [
        "def haversine(lat1, lon1, lat2, lon2):\n",
        "    R = 6371.0\n",
        "    dlat = radians(lat2 - lat1)\n",
        "    dlon = radians(lon2 - lon1)\n",
        "    a = sin(dlat / 2)**2 + cos(radians(lat1)) * cos(radians(lat2)) * sin(dlon / 2)**2\n",
        "    c = 2 * atan2(sqrt(a), sqrt(1 - a))\n",
        "    distance = R * c\n",
        "    return distance\n",
        "\n",
        "user_lat = -6.200000\n",
        "user_lon = 106.816666\n",
        "\n",
        "data_gabungan['distance'] = data_gabungan.apply(lambda row: haversine(user_lat, user_lon, row['lat'], row['long']), axis=1)\n",
        "\n",
        "# Filter restoran yang berjarak maksimal 20 km\n",
        "filtered_restaurants = data_gabungan[data_gabungan['distance'] <= 20]"
      ],
      "metadata": {
        "id": "ChBGiLlp3yPO"
      },
      "execution_count": 25,
      "outputs": []
    },
    {
      "cell_type": "code",
      "source": [
        "# Standardisasi fitur\n",
        "scaler = StandardScaler()\n",
        "scaled_features = scaler.fit_transform(filtered_restaurants[['lat', 'long']])\n",
        "\n",
        "# K-Means Clustering\n",
        "kmeans = KMeans(n_clusters=5, random_state=42)\n",
        "filtered_restaurants['cluster'] = kmeans.fit_predict(scaled_features)\n",
        "\n",
        "# Pisahkan data menjadi set pelatihan dan pengujian\n",
        "X_train, X_test, y_train, y_test = train_test_split(\n",
        "    scaled_features, filtered_restaurants['cluster'], test_size=0.2, random_state=42)\n",
        "\n",
        "# Mengonversi label ke bentuk categorical\n",
        "y_train_cat = to_categorical(y_train, num_classes=5)\n",
        "y_test_cat = to_categorical(y_test, num_classes=5)\n",
        "\n",
        "# Membangun model TensorFlow\n",
        "model = tf.keras.Sequential([\n",
        "    tf.keras.layers.Dense(128, activation='relu', input_shape=(2,)),\n",
        "    tf.keras.layers.Dense(64, activation='relu'),\n",
        "    tf.keras.layers.Dense(5, activation='softmax')\n",
        "])\n",
        "\n",
        "model.compile(optimizer='adam', loss='categorical_crossentropy', metrics=['accuracy'])\n",
        "\n",
        "# Melatih model\n",
        "history = model.fit(X_train, y_train_cat, epochs=150, validation_split=0.2, verbose=2)"
      ],
      "metadata": {
        "colab": {
          "base_uri": "https://localhost:8080/"
        },
        "id": "TzUYtcCk32tf",
        "outputId": "9fea91b4-47cb-4e1d-b0bf-bf6aeeb73c79"
      },
      "execution_count": 26,
      "outputs": [
        {
          "output_type": "stream",
          "name": "stdout",
          "text": [
            "Epoch 1/150\n"
          ]
        },
        {
          "output_type": "stream",
          "name": "stderr",
          "text": [
            "/usr/local/lib/python3.10/dist-packages/sklearn/cluster/_kmeans.py:870: FutureWarning: The default value of `n_init` will change from 10 to 'auto' in 1.4. Set the value of `n_init` explicitly to suppress the warning\n",
            "  warnings.warn(\n",
            "<ipython-input-26-f057e6904fdc>:7: SettingWithCopyWarning: \n",
            "A value is trying to be set on a copy of a slice from a DataFrame.\n",
            "Try using .loc[row_indexer,col_indexer] = value instead\n",
            "\n",
            "See the caveats in the documentation: https://pandas.pydata.org/pandas-docs/stable/user_guide/indexing.html#returning-a-view-versus-a-copy\n",
            "  filtered_restaurants['cluster'] = kmeans.fit_predict(scaled_features)\n"
          ]
        },
        {
          "output_type": "stream",
          "name": "stdout",
          "text": [
            "1/1 - 2s - loss: 1.6122 - accuracy: 0.0000e+00 - val_loss: 1.5757 - val_accuracy: 0.0000e+00 - 2s/epoch - 2s/step\n",
            "Epoch 2/150\n",
            "1/1 - 0s - loss: 1.5787 - accuracy: 0.2727 - val_loss: 1.5616 - val_accuracy: 0.3333 - 83ms/epoch - 83ms/step\n",
            "Epoch 3/150\n",
            "1/1 - 0s - loss: 1.5458 - accuracy: 0.6818 - val_loss: 1.5474 - val_accuracy: 0.5000 - 81ms/epoch - 81ms/step\n",
            "Epoch 4/150\n",
            "1/1 - 0s - loss: 1.5139 - accuracy: 0.7727 - val_loss: 1.5338 - val_accuracy: 0.5000 - 111ms/epoch - 111ms/step\n",
            "Epoch 5/150\n",
            "1/1 - 0s - loss: 1.4833 - accuracy: 0.7727 - val_loss: 1.5208 - val_accuracy: 0.5000 - 67ms/epoch - 67ms/step\n",
            "Epoch 6/150\n",
            "1/1 - 0s - loss: 1.4539 - accuracy: 0.8636 - val_loss: 1.5082 - val_accuracy: 0.5000 - 94ms/epoch - 94ms/step\n",
            "Epoch 7/150\n",
            "1/1 - 0s - loss: 1.4255 - accuracy: 0.8636 - val_loss: 1.4960 - val_accuracy: 0.6667 - 128ms/epoch - 128ms/step\n",
            "Epoch 8/150\n",
            "1/1 - 0s - loss: 1.3976 - accuracy: 0.8636 - val_loss: 1.4839 - val_accuracy: 0.6667 - 124ms/epoch - 124ms/step\n",
            "Epoch 9/150\n",
            "1/1 - 0s - loss: 1.3700 - accuracy: 0.8636 - val_loss: 1.4721 - val_accuracy: 0.6667 - 122ms/epoch - 122ms/step\n",
            "Epoch 10/150\n",
            "1/1 - 0s - loss: 1.3431 - accuracy: 0.8636 - val_loss: 1.4608 - val_accuracy: 0.6667 - 82ms/epoch - 82ms/step\n",
            "Epoch 11/150\n",
            "1/1 - 0s - loss: 1.3166 - accuracy: 0.8636 - val_loss: 1.4495 - val_accuracy: 0.6667 - 42ms/epoch - 42ms/step\n",
            "Epoch 12/150\n",
            "1/1 - 0s - loss: 1.2905 - accuracy: 0.8636 - val_loss: 1.4383 - val_accuracy: 0.6667 - 30ms/epoch - 30ms/step\n",
            "Epoch 13/150\n",
            "1/1 - 0s - loss: 1.2651 - accuracy: 0.8636 - val_loss: 1.4269 - val_accuracy: 0.5000 - 29ms/epoch - 29ms/step\n",
            "Epoch 14/150\n",
            "1/1 - 0s - loss: 1.2398 - accuracy: 0.8636 - val_loss: 1.4152 - val_accuracy: 0.5000 - 29ms/epoch - 29ms/step\n",
            "Epoch 15/150\n",
            "1/1 - 0s - loss: 1.2146 - accuracy: 0.8636 - val_loss: 1.4035 - val_accuracy: 0.5000 - 28ms/epoch - 28ms/step\n",
            "Epoch 16/150\n",
            "1/1 - 0s - loss: 1.1893 - accuracy: 0.8636 - val_loss: 1.3911 - val_accuracy: 0.5000 - 27ms/epoch - 27ms/step\n",
            "Epoch 17/150\n",
            "1/1 - 0s - loss: 1.1641 - accuracy: 0.8636 - val_loss: 1.3785 - val_accuracy: 0.5000 - 27ms/epoch - 27ms/step\n",
            "Epoch 18/150\n",
            "1/1 - 0s - loss: 1.1387 - accuracy: 0.8182 - val_loss: 1.3657 - val_accuracy: 0.5000 - 28ms/epoch - 28ms/step\n",
            "Epoch 19/150\n",
            "1/1 - 0s - loss: 1.1132 - accuracy: 0.8182 - val_loss: 1.3527 - val_accuracy: 0.5000 - 36ms/epoch - 36ms/step\n",
            "Epoch 20/150\n",
            "1/1 - 0s - loss: 1.0876 - accuracy: 0.8182 - val_loss: 1.3395 - val_accuracy: 0.5000 - 35ms/epoch - 35ms/step\n",
            "Epoch 21/150\n",
            "1/1 - 0s - loss: 1.0616 - accuracy: 0.8182 - val_loss: 1.3259 - val_accuracy: 0.5000 - 39ms/epoch - 39ms/step\n",
            "Epoch 22/150\n",
            "1/1 - 0s - loss: 1.0354 - accuracy: 0.8182 - val_loss: 1.3123 - val_accuracy: 0.5000 - 36ms/epoch - 36ms/step\n",
            "Epoch 23/150\n",
            "1/1 - 0s - loss: 1.0093 - accuracy: 0.8182 - val_loss: 1.2982 - val_accuracy: 0.5000 - 53ms/epoch - 53ms/step\n",
            "Epoch 24/150\n",
            "1/1 - 0s - loss: 0.9830 - accuracy: 0.8182 - val_loss: 1.2837 - val_accuracy: 0.5000 - 30ms/epoch - 30ms/step\n",
            "Epoch 25/150\n",
            "1/1 - 0s - loss: 0.9567 - accuracy: 0.8182 - val_loss: 1.2682 - val_accuracy: 0.5000 - 44ms/epoch - 44ms/step\n",
            "Epoch 26/150\n",
            "1/1 - 0s - loss: 0.9305 - accuracy: 0.8182 - val_loss: 1.2521 - val_accuracy: 0.5000 - 47ms/epoch - 47ms/step\n",
            "Epoch 27/150\n",
            "1/1 - 0s - loss: 0.9047 - accuracy: 0.8182 - val_loss: 1.2360 - val_accuracy: 0.5000 - 47ms/epoch - 47ms/step\n",
            "Epoch 28/150\n",
            "1/1 - 0s - loss: 0.8789 - accuracy: 0.8182 - val_loss: 1.2200 - val_accuracy: 0.5000 - 44ms/epoch - 44ms/step\n",
            "Epoch 29/150\n",
            "1/1 - 0s - loss: 0.8535 - accuracy: 0.8182 - val_loss: 1.2041 - val_accuracy: 0.5000 - 56ms/epoch - 56ms/step\n",
            "Epoch 30/150\n",
            "1/1 - 0s - loss: 0.8285 - accuracy: 0.8182 - val_loss: 1.1882 - val_accuracy: 0.5000 - 64ms/epoch - 64ms/step\n",
            "Epoch 31/150\n",
            "1/1 - 0s - loss: 0.8039 - accuracy: 0.8636 - val_loss: 1.1725 - val_accuracy: 0.5000 - 45ms/epoch - 45ms/step\n",
            "Epoch 32/150\n",
            "1/1 - 0s - loss: 0.7801 - accuracy: 0.8636 - val_loss: 1.1570 - val_accuracy: 0.5000 - 57ms/epoch - 57ms/step\n",
            "Epoch 33/150\n",
            "1/1 - 0s - loss: 0.7570 - accuracy: 0.8636 - val_loss: 1.1416 - val_accuracy: 0.5000 - 45ms/epoch - 45ms/step\n",
            "Epoch 34/150\n",
            "1/1 - 0s - loss: 0.7344 - accuracy: 0.8636 - val_loss: 1.1260 - val_accuracy: 0.5000 - 40ms/epoch - 40ms/step\n",
            "Epoch 35/150\n",
            "1/1 - 0s - loss: 0.7122 - accuracy: 0.8636 - val_loss: 1.1106 - val_accuracy: 0.5000 - 56ms/epoch - 56ms/step\n",
            "Epoch 36/150\n",
            "1/1 - 0s - loss: 0.6906 - accuracy: 0.8636 - val_loss: 1.0953 - val_accuracy: 0.5000 - 41ms/epoch - 41ms/step\n",
            "Epoch 37/150\n",
            "1/1 - 0s - loss: 0.6697 - accuracy: 0.8636 - val_loss: 1.0803 - val_accuracy: 0.5000 - 56ms/epoch - 56ms/step\n",
            "Epoch 38/150\n",
            "1/1 - 0s - loss: 0.6495 - accuracy: 0.8636 - val_loss: 1.0657 - val_accuracy: 0.6667 - 51ms/epoch - 51ms/step\n",
            "Epoch 39/150\n",
            "1/1 - 0s - loss: 0.6302 - accuracy: 0.8636 - val_loss: 1.0514 - val_accuracy: 0.6667 - 60ms/epoch - 60ms/step\n",
            "Epoch 40/150\n",
            "1/1 - 0s - loss: 0.6116 - accuracy: 0.8636 - val_loss: 1.0374 - val_accuracy: 0.6667 - 60ms/epoch - 60ms/step\n",
            "Epoch 41/150\n",
            "1/1 - 0s - loss: 0.5938 - accuracy: 0.8636 - val_loss: 1.0237 - val_accuracy: 0.6667 - 45ms/epoch - 45ms/step\n",
            "Epoch 42/150\n",
            "1/1 - 0s - loss: 0.5767 - accuracy: 0.8636 - val_loss: 1.0103 - val_accuracy: 0.6667 - 56ms/epoch - 56ms/step\n",
            "Epoch 43/150\n",
            "1/1 - 0s - loss: 0.5603 - accuracy: 0.8636 - val_loss: 0.9970 - val_accuracy: 0.6667 - 38ms/epoch - 38ms/step\n",
            "Epoch 44/150\n",
            "1/1 - 0s - loss: 0.5445 - accuracy: 0.8636 - val_loss: 0.9837 - val_accuracy: 0.6667 - 54ms/epoch - 54ms/step\n",
            "Epoch 45/150\n",
            "1/1 - 0s - loss: 0.5294 - accuracy: 0.8636 - val_loss: 0.9706 - val_accuracy: 0.6667 - 56ms/epoch - 56ms/step\n",
            "Epoch 46/150\n",
            "1/1 - 0s - loss: 0.5150 - accuracy: 0.8636 - val_loss: 0.9574 - val_accuracy: 0.6667 - 35ms/epoch - 35ms/step\n",
            "Epoch 47/150\n",
            "1/1 - 0s - loss: 0.5013 - accuracy: 0.8636 - val_loss: 0.9443 - val_accuracy: 0.6667 - 37ms/epoch - 37ms/step\n",
            "Epoch 48/150\n",
            "1/1 - 0s - loss: 0.4881 - accuracy: 0.8636 - val_loss: 0.9313 - val_accuracy: 0.6667 - 39ms/epoch - 39ms/step\n",
            "Epoch 49/150\n",
            "1/1 - 0s - loss: 0.4754 - accuracy: 0.8636 - val_loss: 0.9184 - val_accuracy: 0.6667 - 59ms/epoch - 59ms/step\n",
            "Epoch 50/150\n",
            "1/1 - 0s - loss: 0.4632 - accuracy: 0.8636 - val_loss: 0.9055 - val_accuracy: 0.6667 - 42ms/epoch - 42ms/step\n",
            "Epoch 51/150\n",
            "1/1 - 0s - loss: 0.4515 - accuracy: 0.8636 - val_loss: 0.8925 - val_accuracy: 0.6667 - 54ms/epoch - 54ms/step\n",
            "Epoch 52/150\n",
            "1/1 - 0s - loss: 0.4403 - accuracy: 0.8636 - val_loss: 0.8796 - val_accuracy: 0.6667 - 63ms/epoch - 63ms/step\n",
            "Epoch 53/150\n",
            "1/1 - 0s - loss: 0.4298 - accuracy: 0.8636 - val_loss: 0.8666 - val_accuracy: 0.6667 - 58ms/epoch - 58ms/step\n",
            "Epoch 54/150\n",
            "1/1 - 0s - loss: 0.4197 - accuracy: 0.8636 - val_loss: 0.8537 - val_accuracy: 0.6667 - 46ms/epoch - 46ms/step\n",
            "Epoch 55/150\n",
            "1/1 - 0s - loss: 0.4098 - accuracy: 0.8636 - val_loss: 0.8411 - val_accuracy: 0.6667 - 49ms/epoch - 49ms/step\n",
            "Epoch 56/150\n",
            "1/1 - 0s - loss: 0.4002 - accuracy: 0.8636 - val_loss: 0.8288 - val_accuracy: 0.6667 - 49ms/epoch - 49ms/step\n",
            "Epoch 57/150\n",
            "1/1 - 0s - loss: 0.3910 - accuracy: 0.8636 - val_loss: 0.8167 - val_accuracy: 0.6667 - 52ms/epoch - 52ms/step\n",
            "Epoch 58/150\n",
            "1/1 - 0s - loss: 0.3822 - accuracy: 0.8636 - val_loss: 0.8048 - val_accuracy: 0.6667 - 72ms/epoch - 72ms/step\n",
            "Epoch 59/150\n",
            "1/1 - 0s - loss: 0.3736 - accuracy: 0.9091 - val_loss: 0.7930 - val_accuracy: 0.6667 - 74ms/epoch - 74ms/step\n",
            "Epoch 60/150\n",
            "1/1 - 0s - loss: 0.3654 - accuracy: 0.9091 - val_loss: 0.7811 - val_accuracy: 0.6667 - 50ms/epoch - 50ms/step\n",
            "Epoch 61/150\n",
            "1/1 - 0s - loss: 0.3575 - accuracy: 0.9091 - val_loss: 0.7692 - val_accuracy: 0.6667 - 48ms/epoch - 48ms/step\n",
            "Epoch 62/150\n",
            "1/1 - 0s - loss: 0.3498 - accuracy: 0.9091 - val_loss: 0.7576 - val_accuracy: 0.6667 - 42ms/epoch - 42ms/step\n",
            "Epoch 63/150\n",
            "1/1 - 0s - loss: 0.3422 - accuracy: 0.9091 - val_loss: 0.7459 - val_accuracy: 0.6667 - 43ms/epoch - 43ms/step\n",
            "Epoch 64/150\n",
            "1/1 - 0s - loss: 0.3349 - accuracy: 0.9091 - val_loss: 0.7343 - val_accuracy: 0.6667 - 58ms/epoch - 58ms/step\n",
            "Epoch 65/150\n",
            "1/1 - 0s - loss: 0.3278 - accuracy: 0.9091 - val_loss: 0.7227 - val_accuracy: 0.6667 - 62ms/epoch - 62ms/step\n",
            "Epoch 66/150\n",
            "1/1 - 0s - loss: 0.3208 - accuracy: 0.9091 - val_loss: 0.7112 - val_accuracy: 0.6667 - 56ms/epoch - 56ms/step\n",
            "Epoch 67/150\n",
            "1/1 - 0s - loss: 0.3140 - accuracy: 0.9091 - val_loss: 0.6997 - val_accuracy: 0.6667 - 69ms/epoch - 69ms/step\n",
            "Epoch 68/150\n",
            "1/1 - 0s - loss: 0.3074 - accuracy: 0.9091 - val_loss: 0.6884 - val_accuracy: 0.6667 - 66ms/epoch - 66ms/step\n",
            "Epoch 69/150\n",
            "1/1 - 0s - loss: 0.3009 - accuracy: 0.9091 - val_loss: 0.6773 - val_accuracy: 0.6667 - 60ms/epoch - 60ms/step\n",
            "Epoch 70/150\n",
            "1/1 - 0s - loss: 0.2946 - accuracy: 0.9091 - val_loss: 0.6667 - val_accuracy: 0.6667 - 46ms/epoch - 46ms/step\n",
            "Epoch 71/150\n",
            "1/1 - 0s - loss: 0.2884 - accuracy: 0.9091 - val_loss: 0.6563 - val_accuracy: 0.6667 - 44ms/epoch - 44ms/step\n",
            "Epoch 72/150\n",
            "1/1 - 0s - loss: 0.2822 - accuracy: 0.9091 - val_loss: 0.6464 - val_accuracy: 0.6667 - 46ms/epoch - 46ms/step\n",
            "Epoch 73/150\n",
            "1/1 - 0s - loss: 0.2762 - accuracy: 0.9545 - val_loss: 0.6368 - val_accuracy: 0.6667 - 33ms/epoch - 33ms/step\n",
            "Epoch 74/150\n",
            "1/1 - 0s - loss: 0.2703 - accuracy: 0.9545 - val_loss: 0.6275 - val_accuracy: 0.6667 - 53ms/epoch - 53ms/step\n",
            "Epoch 75/150\n",
            "1/1 - 0s - loss: 0.2645 - accuracy: 0.9545 - val_loss: 0.6184 - val_accuracy: 0.6667 - 55ms/epoch - 55ms/step\n",
            "Epoch 76/150\n",
            "1/1 - 0s - loss: 0.2587 - accuracy: 0.9545 - val_loss: 0.6095 - val_accuracy: 0.6667 - 34ms/epoch - 34ms/step\n",
            "Epoch 77/150\n",
            "1/1 - 0s - loss: 0.2531 - accuracy: 0.9545 - val_loss: 0.6007 - val_accuracy: 0.6667 - 31ms/epoch - 31ms/step\n",
            "Epoch 78/150\n",
            "1/1 - 0s - loss: 0.2476 - accuracy: 1.0000 - val_loss: 0.5917 - val_accuracy: 0.6667 - 30ms/epoch - 30ms/step\n",
            "Epoch 79/150\n",
            "1/1 - 0s - loss: 0.2423 - accuracy: 1.0000 - val_loss: 0.5827 - val_accuracy: 0.6667 - 31ms/epoch - 31ms/step\n",
            "Epoch 80/150\n",
            "1/1 - 0s - loss: 0.2369 - accuracy: 1.0000 - val_loss: 0.5737 - val_accuracy: 0.6667 - 51ms/epoch - 51ms/step\n",
            "Epoch 81/150\n",
            "1/1 - 0s - loss: 0.2318 - accuracy: 1.0000 - val_loss: 0.5646 - val_accuracy: 0.6667 - 31ms/epoch - 31ms/step\n",
            "Epoch 82/150\n",
            "1/1 - 0s - loss: 0.2268 - accuracy: 1.0000 - val_loss: 0.5557 - val_accuracy: 0.6667 - 31ms/epoch - 31ms/step\n",
            "Epoch 83/150\n",
            "1/1 - 0s - loss: 0.2219 - accuracy: 1.0000 - val_loss: 0.5468 - val_accuracy: 0.6667 - 32ms/epoch - 32ms/step\n",
            "Epoch 84/150\n",
            "1/1 - 0s - loss: 0.2170 - accuracy: 1.0000 - val_loss: 0.5381 - val_accuracy: 0.6667 - 28ms/epoch - 28ms/step\n",
            "Epoch 85/150\n",
            "1/1 - 0s - loss: 0.2122 - accuracy: 1.0000 - val_loss: 0.5297 - val_accuracy: 0.6667 - 29ms/epoch - 29ms/step\n",
            "Epoch 86/150\n",
            "1/1 - 0s - loss: 0.2075 - accuracy: 1.0000 - val_loss: 0.5214 - val_accuracy: 0.6667 - 30ms/epoch - 30ms/step\n",
            "Epoch 87/150\n",
            "1/1 - 0s - loss: 0.2029 - accuracy: 1.0000 - val_loss: 0.5134 - val_accuracy: 0.6667 - 30ms/epoch - 30ms/step\n",
            "Epoch 88/150\n",
            "1/1 - 0s - loss: 0.1984 - accuracy: 1.0000 - val_loss: 0.5058 - val_accuracy: 0.6667 - 30ms/epoch - 30ms/step\n",
            "Epoch 89/150\n",
            "1/1 - 0s - loss: 0.1940 - accuracy: 1.0000 - val_loss: 0.4981 - val_accuracy: 0.6667 - 28ms/epoch - 28ms/step\n",
            "Epoch 90/150\n",
            "1/1 - 0s - loss: 0.1897 - accuracy: 1.0000 - val_loss: 0.4905 - val_accuracy: 0.6667 - 28ms/epoch - 28ms/step\n",
            "Epoch 91/150\n",
            "1/1 - 0s - loss: 0.1855 - accuracy: 1.0000 - val_loss: 0.4832 - val_accuracy: 0.6667 - 26ms/epoch - 26ms/step\n",
            "Epoch 92/150\n",
            "1/1 - 0s - loss: 0.1813 - accuracy: 1.0000 - val_loss: 0.4760 - val_accuracy: 0.6667 - 27ms/epoch - 27ms/step\n",
            "Epoch 93/150\n",
            "1/1 - 0s - loss: 0.1772 - accuracy: 1.0000 - val_loss: 0.4691 - val_accuracy: 0.6667 - 29ms/epoch - 29ms/step\n",
            "Epoch 94/150\n",
            "1/1 - 0s - loss: 0.1732 - accuracy: 1.0000 - val_loss: 0.4626 - val_accuracy: 0.8333 - 28ms/epoch - 28ms/step\n",
            "Epoch 95/150\n",
            "1/1 - 0s - loss: 0.1693 - accuracy: 1.0000 - val_loss: 0.4565 - val_accuracy: 0.8333 - 28ms/epoch - 28ms/step\n",
            "Epoch 96/150\n",
            "1/1 - 0s - loss: 0.1654 - accuracy: 1.0000 - val_loss: 0.4507 - val_accuracy: 0.8333 - 28ms/epoch - 28ms/step\n",
            "Epoch 97/150\n",
            "1/1 - 0s - loss: 0.1617 - accuracy: 1.0000 - val_loss: 0.4451 - val_accuracy: 0.8333 - 28ms/epoch - 28ms/step\n",
            "Epoch 98/150\n",
            "1/1 - 0s - loss: 0.1579 - accuracy: 1.0000 - val_loss: 0.4397 - val_accuracy: 0.8333 - 32ms/epoch - 32ms/step\n",
            "Epoch 99/150\n",
            "1/1 - 0s - loss: 0.1543 - accuracy: 1.0000 - val_loss: 0.4345 - val_accuracy: 0.8333 - 28ms/epoch - 28ms/step\n",
            "Epoch 100/150\n",
            "1/1 - 0s - loss: 0.1507 - accuracy: 1.0000 - val_loss: 0.4295 - val_accuracy: 0.8333 - 30ms/epoch - 30ms/step\n",
            "Epoch 101/150\n",
            "1/1 - 0s - loss: 0.1472 - accuracy: 1.0000 - val_loss: 0.4246 - val_accuracy: 0.8333 - 35ms/epoch - 35ms/step\n",
            "Epoch 102/150\n",
            "1/1 - 0s - loss: 0.1437 - accuracy: 1.0000 - val_loss: 0.4199 - val_accuracy: 0.8333 - 36ms/epoch - 36ms/step\n",
            "Epoch 103/150\n",
            "1/1 - 0s - loss: 0.1403 - accuracy: 1.0000 - val_loss: 0.4154 - val_accuracy: 0.8333 - 34ms/epoch - 34ms/step\n",
            "Epoch 104/150\n",
            "1/1 - 0s - loss: 0.1370 - accuracy: 1.0000 - val_loss: 0.4108 - val_accuracy: 0.8333 - 36ms/epoch - 36ms/step\n",
            "Epoch 105/150\n",
            "1/1 - 0s - loss: 0.1338 - accuracy: 1.0000 - val_loss: 0.4063 - val_accuracy: 0.8333 - 36ms/epoch - 36ms/step\n",
            "Epoch 106/150\n",
            "1/1 - 0s - loss: 0.1307 - accuracy: 1.0000 - val_loss: 0.4018 - val_accuracy: 0.8333 - 52ms/epoch - 52ms/step\n",
            "Epoch 107/150\n",
            "1/1 - 0s - loss: 0.1276 - accuracy: 1.0000 - val_loss: 0.3972 - val_accuracy: 0.8333 - 36ms/epoch - 36ms/step\n",
            "Epoch 108/150\n",
            "1/1 - 0s - loss: 0.1246 - accuracy: 1.0000 - val_loss: 0.3926 - val_accuracy: 0.8333 - 32ms/epoch - 32ms/step\n",
            "Epoch 109/150\n",
            "1/1 - 0s - loss: 0.1216 - accuracy: 1.0000 - val_loss: 0.3881 - val_accuracy: 0.8333 - 35ms/epoch - 35ms/step\n",
            "Epoch 110/150\n",
            "1/1 - 0s - loss: 0.1188 - accuracy: 1.0000 - val_loss: 0.3835 - val_accuracy: 0.8333 - 30ms/epoch - 30ms/step\n",
            "Epoch 111/150\n",
            "1/1 - 0s - loss: 0.1160 - accuracy: 1.0000 - val_loss: 0.3792 - val_accuracy: 0.8333 - 29ms/epoch - 29ms/step\n",
            "Epoch 112/150\n",
            "1/1 - 0s - loss: 0.1133 - accuracy: 1.0000 - val_loss: 0.3749 - val_accuracy: 1.0000 - 32ms/epoch - 32ms/step\n",
            "Epoch 113/150\n",
            "1/1 - 0s - loss: 0.1106 - accuracy: 1.0000 - val_loss: 0.3706 - val_accuracy: 1.0000 - 28ms/epoch - 28ms/step\n",
            "Epoch 114/150\n",
            "1/1 - 0s - loss: 0.1080 - accuracy: 1.0000 - val_loss: 0.3666 - val_accuracy: 1.0000 - 28ms/epoch - 28ms/step\n",
            "Epoch 115/150\n",
            "1/1 - 0s - loss: 0.1055 - accuracy: 1.0000 - val_loss: 0.3628 - val_accuracy: 1.0000 - 30ms/epoch - 30ms/step\n",
            "Epoch 116/150\n",
            "1/1 - 0s - loss: 0.1030 - accuracy: 1.0000 - val_loss: 0.3593 - val_accuracy: 1.0000 - 28ms/epoch - 28ms/step\n",
            "Epoch 117/150\n",
            "1/1 - 0s - loss: 0.1007 - accuracy: 1.0000 - val_loss: 0.3559 - val_accuracy: 1.0000 - 27ms/epoch - 27ms/step\n",
            "Epoch 118/150\n",
            "1/1 - 0s - loss: 0.0983 - accuracy: 1.0000 - val_loss: 0.3526 - val_accuracy: 1.0000 - 27ms/epoch - 27ms/step\n",
            "Epoch 119/150\n",
            "1/1 - 0s - loss: 0.0960 - accuracy: 1.0000 - val_loss: 0.3493 - val_accuracy: 1.0000 - 27ms/epoch - 27ms/step\n",
            "Epoch 120/150\n",
            "1/1 - 0s - loss: 0.0938 - accuracy: 1.0000 - val_loss: 0.3462 - val_accuracy: 1.0000 - 27ms/epoch - 27ms/step\n",
            "Epoch 121/150\n",
            "1/1 - 0s - loss: 0.0916 - accuracy: 1.0000 - val_loss: 0.3429 - val_accuracy: 1.0000 - 31ms/epoch - 31ms/step\n",
            "Epoch 122/150\n",
            "1/1 - 0s - loss: 0.0895 - accuracy: 1.0000 - val_loss: 0.3396 - val_accuracy: 1.0000 - 28ms/epoch - 28ms/step\n",
            "Epoch 123/150\n",
            "1/1 - 0s - loss: 0.0874 - accuracy: 1.0000 - val_loss: 0.3365 - val_accuracy: 1.0000 - 28ms/epoch - 28ms/step\n",
            "Epoch 124/150\n",
            "1/1 - 0s - loss: 0.0854 - accuracy: 1.0000 - val_loss: 0.3337 - val_accuracy: 1.0000 - 28ms/epoch - 28ms/step\n",
            "Epoch 125/150\n",
            "1/1 - 0s - loss: 0.0835 - accuracy: 1.0000 - val_loss: 0.3310 - val_accuracy: 1.0000 - 28ms/epoch - 28ms/step\n",
            "Epoch 126/150\n",
            "1/1 - 0s - loss: 0.0816 - accuracy: 1.0000 - val_loss: 0.3283 - val_accuracy: 1.0000 - 28ms/epoch - 28ms/step\n",
            "Epoch 127/150\n",
            "1/1 - 0s - loss: 0.0797 - accuracy: 1.0000 - val_loss: 0.3257 - val_accuracy: 1.0000 - 27ms/epoch - 27ms/step\n",
            "Epoch 128/150\n",
            "1/1 - 0s - loss: 0.0779 - accuracy: 1.0000 - val_loss: 0.3230 - val_accuracy: 1.0000 - 33ms/epoch - 33ms/step\n",
            "Epoch 129/150\n",
            "1/1 - 0s - loss: 0.0761 - accuracy: 1.0000 - val_loss: 0.3203 - val_accuracy: 1.0000 - 35ms/epoch - 35ms/step\n",
            "Epoch 130/150\n",
            "1/1 - 0s - loss: 0.0744 - accuracy: 1.0000 - val_loss: 0.3176 - val_accuracy: 1.0000 - 35ms/epoch - 35ms/step\n",
            "Epoch 131/150\n",
            "1/1 - 0s - loss: 0.0727 - accuracy: 1.0000 - val_loss: 0.3148 - val_accuracy: 1.0000 - 36ms/epoch - 36ms/step\n",
            "Epoch 132/150\n",
            "1/1 - 0s - loss: 0.0711 - accuracy: 1.0000 - val_loss: 0.3121 - val_accuracy: 1.0000 - 37ms/epoch - 37ms/step\n",
            "Epoch 133/150\n",
            "1/1 - 0s - loss: 0.0695 - accuracy: 1.0000 - val_loss: 0.3094 - val_accuracy: 1.0000 - 33ms/epoch - 33ms/step\n",
            "Epoch 134/150\n",
            "1/1 - 0s - loss: 0.0679 - accuracy: 1.0000 - val_loss: 0.3068 - val_accuracy: 1.0000 - 38ms/epoch - 38ms/step\n",
            "Epoch 135/150\n",
            "1/1 - 0s - loss: 0.0664 - accuracy: 1.0000 - val_loss: 0.3041 - val_accuracy: 1.0000 - 35ms/epoch - 35ms/step\n",
            "Epoch 136/150\n",
            "1/1 - 0s - loss: 0.0649 - accuracy: 1.0000 - val_loss: 0.3016 - val_accuracy: 1.0000 - 30ms/epoch - 30ms/step\n",
            "Epoch 137/150\n",
            "1/1 - 0s - loss: 0.0635 - accuracy: 1.0000 - val_loss: 0.2991 - val_accuracy: 1.0000 - 31ms/epoch - 31ms/step\n",
            "Epoch 138/150\n",
            "1/1 - 0s - loss: 0.0621 - accuracy: 1.0000 - val_loss: 0.2967 - val_accuracy: 1.0000 - 46ms/epoch - 46ms/step\n",
            "Epoch 139/150\n",
            "1/1 - 0s - loss: 0.0608 - accuracy: 1.0000 - val_loss: 0.2944 - val_accuracy: 1.0000 - 35ms/epoch - 35ms/step\n",
            "Epoch 140/150\n",
            "1/1 - 0s - loss: 0.0594 - accuracy: 1.0000 - val_loss: 0.2924 - val_accuracy: 1.0000 - 33ms/epoch - 33ms/step\n",
            "Epoch 141/150\n",
            "1/1 - 0s - loss: 0.0581 - accuracy: 1.0000 - val_loss: 0.2903 - val_accuracy: 1.0000 - 31ms/epoch - 31ms/step\n",
            "Epoch 142/150\n",
            "1/1 - 0s - loss: 0.0569 - accuracy: 1.0000 - val_loss: 0.2884 - val_accuracy: 1.0000 - 35ms/epoch - 35ms/step\n",
            "Epoch 143/150\n",
            "1/1 - 0s - loss: 0.0557 - accuracy: 1.0000 - val_loss: 0.2865 - val_accuracy: 1.0000 - 31ms/epoch - 31ms/step\n",
            "Epoch 144/150\n",
            "1/1 - 0s - loss: 0.0545 - accuracy: 1.0000 - val_loss: 0.2847 - val_accuracy: 1.0000 - 30ms/epoch - 30ms/step\n",
            "Epoch 145/150\n",
            "1/1 - 0s - loss: 0.0533 - accuracy: 1.0000 - val_loss: 0.2829 - val_accuracy: 1.0000 - 29ms/epoch - 29ms/step\n",
            "Epoch 146/150\n",
            "1/1 - 0s - loss: 0.0522 - accuracy: 1.0000 - val_loss: 0.2813 - val_accuracy: 1.0000 - 29ms/epoch - 29ms/step\n",
            "Epoch 147/150\n",
            "1/1 - 0s - loss: 0.0510 - accuracy: 1.0000 - val_loss: 0.2798 - val_accuracy: 1.0000 - 29ms/epoch - 29ms/step\n",
            "Epoch 148/150\n",
            "1/1 - 0s - loss: 0.0500 - accuracy: 1.0000 - val_loss: 0.2783 - val_accuracy: 1.0000 - 45ms/epoch - 45ms/step\n",
            "Epoch 149/150\n",
            "1/1 - 0s - loss: 0.0489 - accuracy: 1.0000 - val_loss: 0.2768 - val_accuracy: 1.0000 - 29ms/epoch - 29ms/step\n",
            "Epoch 150/150\n",
            "1/1 - 0s - loss: 0.0479 - accuracy: 1.0000 - val_loss: 0.2753 - val_accuracy: 1.0000 - 29ms/epoch - 29ms/step\n"
          ]
        }
      ]
    },
    {
      "cell_type": "code",
      "source": [
        "# Evaluasi model pada set pelatihan\n",
        "train_loss, train_accuracy = model.evaluate(X_train, y_train_cat, verbose=2)\n",
        "print(f'Akurasi set pelatihan: {train_accuracy:.2f}%, Loss set pelatihan: {train_loss:.2f}')"
      ],
      "metadata": {
        "colab": {
          "base_uri": "https://localhost:8080/"
        },
        "id": "Ter-d8ch35Zm",
        "outputId": "8d1eaaea-9197-4adc-f856-91fa36599295"
      },
      "execution_count": 27,
      "outputs": [
        {
          "output_type": "stream",
          "name": "stdout",
          "text": [
            "1/1 - 0s - loss: 0.0958 - accuracy: 1.0000 - 31ms/epoch - 31ms/step\n",
            "Akurasi set pelatihan: 1.00%, Loss set pelatihan: 0.10\n"
          ]
        }
      ]
    },
    {
      "cell_type": "code",
      "source": [
        "# Evaluasi model pada set pengujian\n",
        "test_loss, test_accuracy = model.evaluate(X_test, y_test_cat, verbose=2)\n",
        "print('Akurasi model pada set pengujian: {:5.2f}%, Loss set pengujian: {:.2f}'.format(100 * test_accuracy, test_loss))"
      ],
      "metadata": {
        "colab": {
          "base_uri": "https://localhost:8080/"
        },
        "id": "00OupUVv38YZ",
        "outputId": "d5aa7a96-e75b-48c0-9fa7-24ffab8f7c4f"
      },
      "execution_count": 28,
      "outputs": [
        {
          "output_type": "stream",
          "name": "stdout",
          "text": [
            "1/1 - 0s - loss: 0.3719 - accuracy: 0.7143 - 20ms/epoch - 20ms/step\n",
            "Akurasi model pada set pengujian: 71.43%, Loss set pengujian: 0.37\n"
          ]
        }
      ]
    },
    {
      "cell_type": "code",
      "source": [
        "# Visualisasi kurva loss\n",
        "epochs = range(1, len(history.history['loss']) + 1)\n",
        "loss = history.history['loss']\n",
        "val_loss = history.history['val_loss']\n",
        "\n",
        "plt.plot(epochs, val_loss, '-', label='val_loss')\n",
        "plt.plot(epochs, loss, 'r-', label='loss')\n",
        "\n",
        "plt.xlabel('Epochs')\n",
        "plt.ylabel('Loss')\n",
        "plt.legend()\n",
        "\n",
        "plt.show()"
      ],
      "metadata": {
        "colab": {
          "base_uri": "https://localhost:8080/",
          "height": 449
        },
        "id": "k1Kn8lAB3-eM",
        "outputId": "a538fd7b-fd4c-48e2-87ad-6e634ddb2608"
      },
      "execution_count": 29,
      "outputs": [
        {
          "output_type": "display_data",
          "data": {
            "text/plain": [
              "<Figure size 640x480 with 1 Axes>"
            ],
            "image/png": "[encoded data removed]"
          },
          "metadata": {}
        }
      ]
    },
    {
      "cell_type": "code",
      "source": [
        "# Tampilkan hasil restoran yang berada dalam jarak 20 km\n",
        "print(\"Restoran yang berada dalam jarak 20 km dari pengguna:\")\n",
        "print(filtered_restaurants[['id_restaurant', 'id_reting', 'id_makanan', 'id_provinsi', 'nama_tempat', 'harga', 'alamat', 'deskripsi', 'long', 'lat', 'distance', 'cluster']].to_string(index=False))"
      ],
      "metadata": {
        "colab": {
          "base_uri": "https://localhost:8080/"
        },
        "id": "Su1IAhY64ArV",
        "outputId": "86286a00-f306-490d-da06-aa04c166c421"
      },
      "execution_count": 30,
      "outputs": [
        {
          "output_type": "stream",
          "name": "stdout",
          "text": [
            "Restoran yang berada dalam jarak 20 km dari pengguna:\n",
            " id_restaurant  id_reting  id_makanan  id_provinsi                                      nama_tempat                harga                                                                                                                                                                                               alamat                                                                                                                                 deskripsi       long       lat  distance  cluster\n",
            "            17         17           7           31                               Kerak telor Betawi  Rp.15.000 - R30.000                                                                 Jalan.H.Mali No.30, RT.9/RW.8, Srengseng Sawah, Kec. Jagakarsa, Kota Jakarta Selatan, Daerah Khusus Ibukota Jakarta 12630, Indonesia                    Makanan ini terbuat dari nasi yang dicampur dengan telur dan serundeng, dimasak dengan cara dibakar di atas tungku api 106.823141 -6.340648 15.655711        4\n",
            "            18         18           7           31                  KERAK TELOR KHAS BETAWI MAMPANG  Rp.15.000 - R30.000                                                                                                                                   RT.3/RW.5, Menteng, Central Jakarta City, Jakarta 10310, Indonesia                    Makanan ini terbuat dari nasi yang dicampur dengan telur dan serundeng, dimasak dengan cara dibakar di atas tungku api 106.828781 -6.197139  1.376517        2\n",
            "            19         19           7           31                           KERAK TELOR BANG DHORY  Rp.15.000 - R30.000                                                                      Jl. Wr. Jati Bar. IV, RT.14/RW.5, Kalibata, Kec. Pancoran, Kota Jakarta Selatan, Daerah Khusus Ibukota Jakarta 12740, Indonesia                    Makanan ini terbuat dari nasi yang dicampur dengan telur dan serundeng, dimasak dengan cara dibakar di atas tungku api 106.832581 -6.267864  7.748478        1\n",
            "           171        171           7           31                             Kerak Telor Bang Ade  Rp.15.000 - R30.000                                                                       Jl. Satria I No.261, RT.9/RW.2, Ujung Menteng, Kec. Cakung, Kota Jakarta Timur, Daerah Khusus Ibukota Jakarta 13960, Indonesia                    Makanan ini terbuat dari nasi yang dicampur dengan telur dan serundeng, dimasak dengan cara dibakar di atas tungku api 106.966314 -6.187385 16.602331        3\n",
            "           172        172           7           31                             Kerak Telor Pak Dudu  Rp.15.000 - R30.000                                                              Jl. Pejaten Barat II No.43 6, RT.6/RW.8, Pejaten Bar., Ps. Minggu, Kota Jakarta Selatan, Daerah Khusus Ibukota Jakarta 12510, Indonesia                    Makanan ini terbuat dari nasi yang dicampur dengan telur dan serundeng, dimasak dengan cara dibakar di atas tungku api 106.828239 -6.268715  7.747108        1\n",
            "           173        173           7           31                             Kerak telor mpok ayu  Rp.15.000 - R30.000                                         Jl :prumpung barat. Rt:09/05 rawa bunga, jatinegara No 10, RT.9/RW.5, Rw. Bunga, Jakarta, Kota Jakarta Timur, Daerah Khusus Ibukota Jakarta 13350, Indonesia                    Makanan ini terbuat dari nasi yang dicampur dengan telur dan serundeng, dimasak dengan cara dibakar di atas tungku api 106.872424 -6.221385  6.606406        0\n",
            "           174        174           7           31                         Kerak Telor Tunas Betawi  Rp.15.000 - R30.000                                                                   h Nasir rt002/002 no.28c, RT.2/RW.2, Srengseng, Kec. Kembangan, Kota Jakarta Barat, Daerah Khusus Ibukota Jakarta 11630, Indonesia                    Makanan ini terbuat dari nasi yang dicampur dengan telur dan serundeng, dimasak dengan cara dibakar di atas tungku api 106.756045 -6.204854  6.722991        2\n",
            "           175        175           7           31                  Kerak Telor Khas Betawi Al Aziz  Rp.15.000 - R30.000                                          prapatan SMK 32, Jl. Tebet Barat Dalam Raya, RT.20/RW.1, Tebet dalam raya, Kec. Tebet, Kota Jakarta Selatan, Daerah Khusus Ibukota Jakarta 12810, Indonesia                    Makanan ini terbuat dari nasi yang dicampur dengan telur dan serundeng, dimasak dengan cara dibakar di atas tungku api 106.849835 -6.229605  4.927510        0\n",
            "           176        176           7           31          Kerak Telor Bang Doel, Sejak Tahun 2000  Rp.15.000 - R30.000                                                           Jl. Pintu Air Raya No.68 6, RT.6/RW.1, Ps. Baru, Kecamatan Sawah Besar, Kota Jakarta Pusat, Daerah Khusus Ibukota Jakarta 10710, Indonesia                    Makanan ini terbuat dari nasi yang dicampur dengan telur dan serundeng, dimasak dengan cara dibakar di atas tungku api 106.832664 -6.163369  4.440561        2\n",
            "           177        177           7           31                   Kerak Telor Babeh Abdul Rohman  Rp.15.000 - R30.000                                                                              Jakarta Pusat 2 5, RT.2/RW.5, Menteng, Kec. Menteng, Kota Jakarta Pusat, Daerah Khusus Ibukota Jakarta 10310, Indonesia                    Makanan ini terbuat dari nasi yang dicampur dengan telur dan serundeng, dimasak dengan cara dibakar di atas tungku api 106.828330 -6.197719  1.314104        2\n",
            "           178        179           7           31                               Bang egg crust Roy  Rp.15.000 - R30.000                                                                                                         Jln swadaya pos rt 008/04 no 93, Pulo Gebang, Daerah Khusus Ibukota Jakarta 13950, Indonesia                    Makanan ini terbuat dari nasi yang dicampur dengan telur dan serundeng, dimasak dengan cara dibakar di atas tungku api 106.958910 -6.199406 15.724446        3\n",
            "            20         20           8           31                           Soto Betawi Haji Husen Rp.20.000 - Rp50.000 Jl. Padang Panjang No. 6C Pasar Manggis Setiabudi Jakarta Selatan DKI Jakarta 8 8, RT.8/RW.8, Ps. Manggis, Kecamatan Setiabudi, Kota Jakarta Selatan, Daerah Khusus Ibukota Jakarta 12850, Indonesia                                      Soto ini menggunakan bahan utama jeroan yang dicampur dengan kuah santan dan susu, serta daging sapi 106.844839 -6.213032  3.434958        0\n",
            "            21         21           8           31                             Soto Betawi H. Maruf Rp.20.000 - Rp50.000                                                                   Jl. RP. Soeroso No.36A 2, RT.2/RW.13, Gondangdia, Kec. Menteng, Kota Jakarta Pusat, Daerah Khusus Ibukota Jakarta 10350, Indonesia                                      Soto ini menggunakan bahan utama jeroan yang dicampur dengan kuah santan dan susu, serta daging sapi 106.835961 -6.191948  2.313269        2\n",
            "            22         22           8           31                         Soto Betawi Mpok Rodemah Rp.20.000 - Rp50.000                                                               Jl. Ciputat Raya No.29 1, RT.1/RW.12, Pd. Pinang, Kec. Kby. Lama, Kota Jakarta Selatan, Daerah Khusus Ibukota Jakarta 12310, Indonesia                                      Soto ini menggunakan bahan utama jeroan yang dicampur dengan kuah santan dan susu, serta daging sapi 106.775220 -6.271121  9.139453        1\n",
            "           157        157           8           31                          Soto Betawi Globe H.Oji Rp.20.000 - Rp50.000                                                                   Jl. Samanhudi No.4, RT.1/RW.3, Ps. Baru, Kecamatan Sawah Besar, Kota Jakarta Pusat, Daerah Khusus Ibukota Jakarta 10710, Indonesia                                      Soto ini menggunakan bahan utama jeroan yang dicampur dengan kuah santan dan susu, serta daging sapi 106.833138 -6.161190  4.683931        2\n",
            "           158        158           8           31                                      Soto Betawi Rp.20.000 - Rp50.000                                                                     9, Jl. Salemba Tengah No.65c, RT.9/RW.8, Paseban, Kec. Senen, Kota Jakarta Pusat, Daerah Khusus Ibukota Jakarta 10440, Indonesia                                      Soto ini menggunakan bahan utama jeroan yang dicampur dengan kuah santan dan susu, serta daging sapi 106.855974 -6.193366  4.407481        0\n",
            "           159        159           8           31 Soto dan Sop Khas Betawi Bang Nawi Tanjung Duren Rp.20.000 - Rp50.000                                                Jl. Tanjung Duren Raya No.362, RT.7/RW.3, Tj. Duren Utara, Kec. Grogol petamburan, Kota Jakarta Barat, Daerah Khusus Ibukota Jakarta 11470, Indonesia                                      Soto ini menggunakan bahan utama jeroan yang dicampur dengan kuah santan dan susu, serta daging sapi 106.783171 -6.173622  4.723735        2\n",
            "           160        160           8           31                            Soto Betawi H. Ma ruf Rp.20.000 - Rp50.000                                                      Wisma Tebet Raya, Jl. Tebet Raya No.23, RT.1/RW.2, Tebet Tim., Kec. Tebet, Kota Jakarta Selatan, Daerah Khusus Ibukota Jakarta 12820, Indonesia                                      Soto ini menggunakan bahan utama jeroan yang dicampur dengan kuah santan dan susu, serta daging sapi 106.852856 -6.229587  5.179533        0\n",
            "           161        161           8           31                             SOTO BETAWI H. YAKUB Rp.20.000 - Rp50.000                                                                 QQ7H+5R8, Jl. Kb. Mangga 4, RT.1/RW.2, Cipulir, Kec. Kby. Lama, Kota Jakarta Selatan, Daerah Khusus Ibukota Jakarta 12230, Indonesia                                      Soto ini menggunakan bahan utama jeroan yang dicampur dengan kuah santan dan susu, serta daging sapi 106.779571 -6.237116  5.817834        1\n",
            "           162        162           8           31                           Soto Betawi Rawamangun Rp.20.000 - Rp50.000                                                              Jl. Tenggiri No 18A RT.007/RW.06 Rawamangun, Jati, Kec. Pulo Gadung, Kota Jakarta Timur, Daerah Khusus Ibukota Jakarta 13220, Indonesia                                      Soto ini menggunakan bahan utama jeroan yang dicampur dengan kuah santan dan susu, serta daging sapi 106.893923 -6.200472  8.540497        0\n",
            "           163        163           8           31                            Soto Betawi H. Ma ruf Rp.20.000 - Rp50.000                                                                                Jl. Pramuka No.64, Utan Kayu Utara, Kec. Matraman, Kota Jakarta Timur, Daerah Khusus Ibukota Jakarta 10330, Indonesia                                      Soto ini menggunakan bahan utama jeroan yang dicampur dengan kuah santan dan susu, serta daging sapi 106.864649 -6.193067  5.360022        0\n",
            "           164        164           8           31                           Soto Betawi Bang Ujang Rp.20.000 - Rp50.000                                                                      1, Jl. Kyai Maja No.53, RT.1/RW.3, Gunung, Kec. Kby. Baru, Kota Jakarta Selatan, Daerah Khusus Ibukota Jakarta 12120, Indonesia                                      Soto ini menggunakan bahan utama jeroan yang dicampur dengan kuah santan dan susu, serta daging sapi 106.790046 -6.241493  5.472296        1\n",
            "           165        165           8           31                           Soto Betawi Haji Mamat Rp.20.000 - Rp50.000                                                            Jl. Mandala Raya No.10 13, RT.13/RW.5, Tomang, Kec. Grogol petamburan, Kota Jakarta Barat, Daerah Khusus Ibukota Jakarta 11440, Indonesia                                      Soto ini menggunakan bahan utama jeroan yang dicampur dengan kuah santan dan susu, serta daging sapi 106.799295 -6.176088  3.279834        2\n",
            "           166        166           8           31                      SOTO ROXY BETAWI H. DARWASA Rp.20.000 - Rp50.000                                                                             Jl. Tidore No.2, RT.1/RW.5, Cideng, Kecamatan Gambir, Kota Jakarta Pusat, Daerah Khusus Ibukota Jakarta 10150, Indonesia                                      Soto ini menggunakan bahan utama jeroan yang dicampur dengan kuah santan dan susu, serta daging sapi 106.807545 -6.166637  3.844382        2\n",
            "           167        167           8           31                            Soto Betawi Bang Udin Rp.20.000 - Rp50.000                                                                                                             Jl. Lapangan Tembak Cibubur RT 10/2 No.4, Daerah Khusus Ibukota Jakarta 13720, Indonesia                                      Soto ini menggunakan bahan utama jeroan yang dicampur dengan kuah santan dan susu, serta daging sapi 106.877955 -6.350942 18.099496        4\n",
            "           168        168           8           31                       Soto Betawi Sambung Nikmat Rp.20.000 - Rp50.000                                                                   Jl. Ciputat Raya No.2, RT.8/RW.6, Pd. Pinang, Kec. Kby. Lama, Kota Jakarta Selatan, Daerah Khusus Ibukota Jakarta 12310, Indonesia                                      Soto ini menggunakan bahan utama jeroan yang dicampur dengan kuah santan dan susu, serta daging sapi 106.772941 -6.276953  9.827432        1\n",
            "           169        169           8           31                           Soto Betawi Bang Sawit Rp.20.000 - Rp50.000                                                          Jl. H. R. Rasuna Said, RT.2/RW.5, Karet Kuningan, Kecamatan Setiabudi, Kota Jakarta Selatan, Daerah Khusus Ibukota Jakarta 12940, Indonesia                                      Soto ini menggunakan bahan utama jeroan yang dicampur dengan kuah santan dan susu, serta daging sapi 106.834568 -6.218556  2.858937        0\n",
            "           170        170           8           31                            Soto Betawi Bang Nawi Rp.20.000 - Rp50.000                                                             Jl. Kh MAS Mansyur Gg. Riban No.1, Kb. Melati, Kecamatan Tanah Abang, Kota Jakarta Pusat, Daerah Khusus Ibukota Jakarta 10230, Indonesia                                      Soto ini menggunakan bahan utama jeroan yang dicampur dengan kuah santan dan susu, serta daging sapi 106.816020 -6.196520  0.393493        2\n",
            "            23         23           9           31                  Asinan Betawi H.Mansyur Kamboja Rp.15.000 - Rp40.000                                                              Jl. Taman Kamboja No.10 8, RT.8/RW.11, Rawamangun, Kec. Pulo Gadung, Kota Jakarta Timur, Daerah Khusus Ibukota Jakarta 13220, Indonesia Terbuat dari saus kacang dengan beragam sayuran mentah seperti tauge, sawi, dan kubis, disiram dengan kuah gula merah yang dicampur cabai 106.884973 -6.200867  7.551575        0\n",
            "            24         24           9           31           Asinan Betawi Asymuni/H. Udin/Hj. Tati Rp.15.000 - Rp40.000                                                                                                Jalan Pisangan Baru RT 002, RW05 No.31, Kec. Matraman, Daerah Khusus Ibukota Jakarta 13110, Indonesia Terbuat dari saus kacang dengan beragam sayuran mentah seperti tauge, sawi, dan kubis, disiram dengan kuah gula merah yang dicampur cabai 106.867136 -6.211622  5.726837        0\n",
            "            25         25           9           31                         Asinan Betawi Bang Sawal Rp.15.000 - Rp40.000                                                       Jl. Arjuna Utara No.12, RT.12/RW.1, Tj. Duren Sel., Kec. Grogol petamburan, Kota Jakarta Barat, Daerah Khusus Ibukota Jakarta 11470, Indonesia Terbuat dari saus kacang dengan beragam sayuran mentah seperti tauge, sawi, dan kubis, disiram dengan kuah gula merah yang dicampur cabai 106.792234 -6.182204  3.348200        2\n",
            "            26         26          10           31            Ketoprak Ciragil & Baso, Siomay Jhony Rp.15.000 - Rp30.000                                                                     Jl. Cikatomas 1 No.29, RT.5/RW.1, Rw. Bar., Kec. Kby. Baru, Kota Jakarta Selatan, Daerah Khusus Ibukota Jakarta 12180, Indonesia                                                                                          Terdiri dari bihun, kecambah, mentimun, dan tahu 106.810392 -6.237174  4.191337        1\n",
            "            27         27          11           31                        Gado Gado Taman Sari Raya Rp.15.000 - Rp30.000                                                                   Jl. Taman Sari No.65 12, RT.12/RW.1, Kota Tua, Kec. Taman Sari, Kota Jakarta Barat, Daerah Khusus Ibukota Jakarta 11150, Indonesia                            Salad tradisional Indonesia yang terdiri dari sayuran rebus, telur, tahu, tempe, dilengkapi dengan saus kacang 106.826891 -6.152821  5.366464        2\n",
            "            28         28          11           31                                Gado-Gado Kartika Rp.15.000 - Rp30.000                                                                     Jl. Sekolah Duta V, RT.3/RW.14, Pd. Pinang, Kec. Kby. Lama, Kota Jakarta Selatan, Daerah Khusus Ibukota Jakarta 12310, Indonesia                            Salad tradisional Indonesia yang terdiri dari sayuran rebus, telur, tahu, tempe, dilengkapi dengan saus kacang 106.781838 -6.286038 10.312502        1\n",
            "            29         29          11           31                    Gado-Gado Cemara (Sejak 1947) Rp.15.000 - Rp30.000                                            Jalan Tanah Abang 5 No.36 Gambir RT.13, 14, RT.14/RW.4, Petojo Sel., Kecamatan Gambir, Kota Jakarta Pusat, Daerah Khusus Ibukota Jakarta 10160, Indonesia                            Salad tradisional Indonesia yang terdiri dari sayuran rebus, telur, tahu, tempe, dilengkapi dengan saus kacang 106.813638 -6.179446  2.309883        2\n"
          ]
        }
      ]
    },
    {
      "cell_type": "code",
      "source": [
        "# Menyimpan bobot model ke file HDF5\n",
        "model.save(\"model.h5\")"
      ],
      "metadata": {
        "colab": {
          "base_uri": "https://localhost:8080/"
        },
        "id": "u6DK5M3r4EWw",
        "outputId": "82ca9318-39da-4ceb-c539-0e6f869e278d"
      },
      "execution_count": 31,
      "outputs": [
        {
          "output_type": "stream",
          "name": "stderr",
          "text": [
            "/usr/local/lib/python3.10/dist-packages/keras/src/engine/training.py:3103: UserWarning: You are saving your model as an HDF5 file via `model.save()`. This file format is considered legacy. We recommend using instead the native Keras format, e.g. `model.save('my_model.keras')`.\n",
            "  saving_api.save_model(\n"
          ]
        }
      ]
    },
    {
      "cell_type": "code",
      "source": [
        "# Membuat converter dari model Keras yang telah dilatih\n",
        "converter = tf.lite.TFLiteConverter.from_keras_model(model)\n",
        "\n",
        "# Mengonversi model ke format TFLite\n",
        "tflite_model = converter.convert()\n",
        "\n",
        "# Menyimpan model TFLite ke file\n",
        "tflite_model_file = 'model.tflite'\n",
        "with open(tflite_model_file, 'wb') as f:\n",
        "    f.write(tflite_model)\n",
        "\n",
        "print(f\"Model TFLite telah disimpan ke file: {tflite_model_file}\")"
      ],
      "metadata": {
        "colab": {
          "base_uri": "https://localhost:8080/"
        },
        "id": "frjPZPQd4z6i",
        "outputId": "5738751d-1c2b-4c08-a0c8-353d8903dfd7"
      },
      "execution_count": 32,
      "outputs": [
        {
          "output_type": "stream",
          "name": "stdout",
          "text": [
            "Model TFLite telah disimpan ke file: model.tflite\n"
          ]
        }
      ]
    }
  ]
}